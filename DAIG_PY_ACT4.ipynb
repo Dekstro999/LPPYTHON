{
  "nbformat": 4,
  "nbformat_minor": 0,
  "metadata": {
    "colab": {
      "provenance": [],
      "authorship_tag": "ABX9TyP9UTOTNJY5fffLKkdXojGV",
      "include_colab_link": true
    },
    "kernelspec": {
      "name": "python3",
      "display_name": "Python 3"
    },
    "language_info": {
      "name": "python"
    }
  },
  "cells": [
    {
      "cell_type": "markdown",
      "metadata": {
        "id": "view-in-github",
        "colab_type": "text"
      },
      "source": [
        "<a href=\"https://colab.research.google.com/github/Dekstro999/LPPYTHON/blob/main/DAIG_PY_ACT4.ipynb\" target=\"_parent\"><img src=\"https://colab.research.google.com/assets/colab-badge.svg\" alt=\"Open In Colab\"/></a>"
      ]
    },
    {
      "cell_type": "code",
      "execution_count": 16,
      "metadata": {
        "id": "yBpV2GxAqHdZ"
      },
      "outputs": [],
      "source": [
        "import random\n",
        "def intEntero(mensaje):\n",
        "    while True:\n",
        "        try:\n",
        "            numero = int(input(mensaje))\n",
        "            return numero\n",
        "        except ValueError:\n",
        "            print(\"Entrada invalida\")\n",
        ""
      ]
    },
    {
      "cell_type": "code",
      "source": [
        "def floatNumero(mensaje):\n",
        "    while True:\n",
        "        try:\n",
        "            numero = float(input(mensaje))\n",
        "            return numero\n",
        "        except ValueError:\n",
        "            print(\"Entrada inválida. Por favor, ingrese un número.\")\n"
      ],
      "metadata": {
        "id": "apLaxs4Eqllv"
      },
      "execution_count": 2,
      "outputs": []
    },
    {
      "cell_type": "code",
      "source": [
        "def si_no():\n",
        "    print(\"1. Si\")\n",
        "    print(\"2. No\")\n",
        "    opc=intEntero(\"\")\n",
        "    return opc==1\n"
      ],
      "metadata": {
        "id": "0VmKvcnxqpbb"
      },
      "execution_count": 3,
      "outputs": []
    },
    {
      "cell_type": "markdown",
      "source": [
        "1.- Programa en Python que genere 40 números aleatorios entre el 0 y 200, desplegar\n",
        "los números y la leyenda de cada número si es par o impar , la cantidad de los\n",
        "números pares e impares así como la suma de los números pares o impares."
      ],
      "metadata": {
        "id": "AUmiwihUq33t"
      }
    },
    {
      "cell_type": "code",
      "source": [
        "def numeros_aleatorios(cantidad, minimo, maximo):\n",
        "    return [random.randint(minimo, maximo) for _ in range(cantidad)]\n",
        "\n",
        "def par_o_impar(numeros):\n",
        "    for numero in numeros:\n",
        "        if numero % 2 == 0:\n",
        "            print(f\"{numero} es Par\")\n",
        "        else:\n",
        "            print(f\"{numero} es Impar\")\n",
        "def contar_sumar_par_impar(numeros):\n",
        "    pares = [num for num in numeros if num % 2 == 0]\n",
        "    impares = [num for num in numeros if num % 2 != 0]\n",
        "\n",
        "    cantidad_pares = len(pares)\n",
        "    cantidad_impares = len(impares)\n",
        "\n",
        "    suma_pares = sum(pares)\n",
        "    suma_impares = sum(impares)\n",
        "\n",
        "    return cantidad_pares, cantidad_impares, suma_pares, suma_impares\n"
      ],
      "metadata": {
        "id": "dAfiXNqrqrvc"
      },
      "execution_count": 6,
      "outputs": []
    },
    {
      "cell_type": "markdown",
      "source": [
        "2.- Programa en Python que despliegue la tabla de multiplicar de un número dado\n",
        "(número entre el 1 y 20).\n",
        "Tabla del 5\n",
        "5 * 1 = 5\n",
        "5* 2 = 10\n",
        ".\n",
        ".\n",
        ".\n",
        "5*10=50"
      ],
      "metadata": {
        "id": "_jnPYySRrfFk"
      }
    },
    {
      "cell_type": "code",
      "source": [
        "def tabla_multiplicar(numero):\n",
        "    if 1 <= numero <= 20:\n",
        "        for i in range(1, 11):\n",
        "            print(f\"{numero} * {i} = {numero * i}\")\n",
        "    else:\n",
        "        print(\"Número fuera de rango. Debe estar entre 1 y 20.\")\n"
      ],
      "metadata": {
        "id": "IEPh7PtXrhs8"
      },
      "execution_count": 4,
      "outputs": []
    },
    {
      "cell_type": "markdown",
      "source": [
        "3.- Programa en Python que lea una calificación, las calificación deberá estar en el\n",
        "rango de 0 a 100, si hay un error de captura, mostrar mensaje de error. con la\n",
        "calificación correcta mostrar msg de aprobado reprobado."
      ],
      "metadata": {
        "id": "uXnwU7c4rrVl"
      }
    },
    {
      "cell_type": "code",
      "source": [
        "def leer_calificacion():\n",
        "    while True:\n",
        "        try:\n",
        "            calificacion = float(input(\"Ingrese la calificación (0-100): \"))\n",
        "            if 0 <= calificacion <= 100:\n",
        "                if calificacion >= 60:\n",
        "                    print(\"Aprobado\")\n",
        "                else:\n",
        "                    print(\"Reprobado\")\n",
        "                break\n",
        "            else:\n",
        "                print(\"Error: La calificación debe estar entre 0 y 100.\")\n",
        "        except ValueError:\n",
        "            print(\"Error: Entrada inválida. Ingrese un número.\")"
      ],
      "metadata": {
        "id": "IcL_2R8ary1I"
      },
      "execution_count": 7,
      "outputs": []
    },
    {
      "cell_type": "markdown",
      "source": [
        "  4.- Programa en Python que lea n cantidad de números enteros dentro de un rango\n",
        "dado (> 0 ) , el programa deberá terminar cuando el usuario introduzca el número\n",
        "cero.\n",
        "desplegar la suma de números y la media."
      ],
      "metadata": {
        "id": "G3vGUf7Jr3fc"
      }
    },
    {
      "cell_type": "code",
      "source": [
        "def suma_media():\n",
        "    numeros = []\n",
        "    while True:\n",
        "        numero = intEntero(\"Ingrese un número entero mayor que 0 (0 para terminar): \")\n",
        "        if numero == 0:\n",
        "            break\n",
        "        elif numero > 0:\n",
        "            numeros.append(numero)\n",
        "        else:\n",
        "            print(\"El número debe ser mayor que 0.\")\n",
        "\n",
        "    if numeros:\n",
        "        suma = sum(numeros)\n",
        "        media = suma / len(numeros)\n",
        "        print(f\"\\nSuma de los números: {suma}\")\n",
        "        print(f\"Media de los números: {media}\")\n",
        "    else:\n",
        "        print(\"\\nNo se ingresaron números válidos.\")\n",
        ""
      ],
      "metadata": {
        "id": "tRP14y5Yr9vz"
      },
      "execution_count": 9,
      "outputs": []
    },
    {
      "cell_type": "markdown",
      "source": [
        "5.- Programa en Python que sirva para leer el promedio de una materia. donde el\n",
        "usuario tendrá un máximo de 3 oportunidades de cursar la materia, si el promedio es\n",
        "aprobado, felicitarlo y continuar el siguiente semestre, si promedio es reprobado\n",
        "deberá salir mensaje de repetir materia o es baja académica si ha reprobado 3 veces."
      ],
      "metadata": {
        "id": "e8I5-o_1sNCj"
      }
    },
    {
      "cell_type": "code",
      "source": [
        "def promedio_3op():\n",
        "    intentos = 0\n",
        "    max_intentos = 3\n",
        "    while intentos < max_intentos:\n",
        "            promedio = floatNumero(\"Ingrese el promedio de la materia (0-100): \")\n",
        "            if 0 <= promedio <= 100:\n",
        "                if promedio >= 60:\n",
        "                    print(\"¡Felicidades! Has aprobado la materia. Puedes continuar al siguiente semestre.\")\n",
        "                    break\n",
        "                else:\n",
        "                    intentos += 1\n",
        "                    if intentos < max_intentos:\n",
        "                        print(f\"Has reprobado. Te quedan {max_intentos - intentos} intentos.\")\n",
        "                    else:\n",
        "                        print(\"Has reprobado 3 veces. Es baja académica.\")\n",
        "            else:\n",
        "                print(\"Error: El promedio debe estar entre 0 y 100.\")"
      ],
      "metadata": {
        "id": "KX_SSpBcsNy9"
      },
      "execution_count": 10,
      "outputs": []
    },
    {
      "cell_type": "markdown",
      "source": [
        "1.- función que lea n cantidad de números hasta que el usuario lo desee, desplegar la\n",
        "suma de los números, media y valor de los números mayores y menores."
      ],
      "metadata": {
        "id": "gFH98gJHsRzX"
      }
    },
    {
      "cell_type": "code",
      "source": [
        "def numeros_mayor_menor():\n",
        "    numeros = []\n",
        "    while True:\n",
        "        numero = floatNumero(\"Ingrese un número (o '0' para detener): \")\n",
        "\n",
        "        if numero == 0:\n",
        "            break\n",
        "\n",
        "        numeros.append(numero)\n",
        "\n",
        "    if len(numeros) == 0:\n",
        "        print(\"No se ingresaron números.\")\n",
        "        return\n",
        "\n",
        "\n",
        "    print(f\"Suma de los números: {sum(numeros)}\")\n",
        "    print(f\"Media de los números: {sum(numeros)/ len(numeros)}\")\n",
        "    print(f\"Mayor número: {max(numeros)}\")\n",
        "    print(f\"Menor número: {min(numeros)}\")\n"
      ],
      "metadata": {
        "id": "YwxxrAsxsXFO"
      },
      "execution_count": 11,
      "outputs": []
    },
    {
      "cell_type": "markdown",
      "source": [
        "2.- función que genere 15 números impares entre 10 y 60 o máximo de 25 números.\n",
        "desplegar la media de los pares y media de impares."
      ],
      "metadata": {
        "id": "UtFoIwyUscP7"
      }
    },
    {
      "cell_type": "code",
      "source": [
        "def generar_impares(cantidad_maxima=25, rango_minimo=10, rango_maximo=60):\n",
        "    impares = [num for num in range(rango_minimo, rango_maximo + 1) if num % 2 != 0]\n",
        "    if len(impares) < cantidad_maxima:\n",
        "        cantidad_maxima = len(impares)\n",
        "\n",
        "    numeros_seleccionados = random.sample(impares, cantidad_maxima)\n",
        "\n",
        "    return numeros_seleccionados\n",
        "\n",
        "def calcular_media(numeros):\n",
        "    if len(numeros) == 0:\n",
        "        return 0\n",
        "    return sum(numeros) / len(numeros)"
      ],
      "metadata": {
        "id": "iglB3o1LsjtX"
      },
      "execution_count": 12,
      "outputs": []
    },
    {
      "cell_type": "markdown",
      "source": [
        "3.- función que sirva para leer y validar un número dentro de un rango dado por el\n",
        "usuario. repetir esta acción hasta que el usuario lo desee, desplegar cantidad de\n",
        "números y promedio de los números.."
      ],
      "metadata": {
        "id": "nkjjzmP0tItI"
      }
    },
    {
      "cell_type": "code",
      "source": [
        "def leer_validar_rango():\n",
        "    rango_min = floatNumero(\"Ingrese el límite inferior del rango: \")\n",
        "    rango_max = floatNumero(\"Ingrese el límite superior del rango: \")\n",
        "\n",
        "    if rango_min > rango_max:\n",
        "        print(\"El límite inferior debe ser menor o igual al límite superior.\")\n",
        "        return\n",
        "\n",
        "    numeros = []\n",
        "\n",
        "    while True:\n",
        "        numero = floatNumero(f\"Ingrese un número dentro del rango [{rango_min}, {rango_max}] (o '0' para detener): \")\n",
        "\n",
        "        if numero == 0:\n",
        "            break\n",
        "        elif rango_min <= numero <= rango_max:\n",
        "            numeros.append(numero)\n",
        "        else:\n",
        "            print(f\"El número debe estar dentro del rango [{rango_min}, {rango_max}].\")\n",
        "\n",
        "    if numeros:\n",
        "        cantidad_numeros = len(numeros)\n",
        "        promedio = sum(numeros) / cantidad_numeros\n",
        "        print(f\"\\nCantidad de números ingresados: {cantidad_numeros}\")\n",
        "        print(f\"Promedio de los números: {promedio}\")\n",
        "    else:\n",
        "        print(\"\\nNo se ingresaron números válidos.\")"
      ],
      "metadata": {
        "id": "lRfibeKttQTw"
      },
      "execution_count": 13,
      "outputs": []
    },
    {
      "cell_type": "markdown",
      "source": [
        "4.- función que reciba como parámetro los valores para el área de un triángulo y\n",
        "retorne su resultado"
      ],
      "metadata": {
        "id": "DcCZnNEAtUNF"
      }
    },
    {
      "cell_type": "code",
      "source": [
        "def obtener_base_altura():\n",
        "    base = floatNumero(\"Ingrese la base del triángulo: \")\n",
        "    altura = floatNumero(\"Ingrese la altura del triángulo: \")\n",
        "    return base, altura"
      ],
      "metadata": {
        "id": "3xNURIKbtYKh"
      },
      "execution_count": 18,
      "outputs": []
    },
    {
      "cell_type": "markdown",
      "source": [
        "5.- función que sirva para validar un número dentro de un rango dado."
      ],
      "metadata": {
        "id": "4Xk7HWl0tdv_"
      }
    },
    {
      "cell_type": "code",
      "source": [
        "def numero_rango(minimo, maximo):\n",
        "    while True:\n",
        "        try:\n",
        "            numero = float(input(f\"Ingrese un numero entre {minimo} y {maximo}\"))\n",
        "            if minimo <= numero <= maximo:\n",
        "                print(f\"El número {numero} está dentro del rango ({minimo}, {maximo}).\")\n",
        "                return numero\n",
        "            else:\n",
        "                print(f\"El número {numero} no está dentro del rango ({minimo}, {maximo}).\")\n",
        "        except ValueError:\n",
        "            print(\"Entrada inválida. Por favor, ingrese un número.\")"
      ],
      "metadata": {
        "id": "pG97xsl8tgHO"
      },
      "execution_count": 14,
      "outputs": []
    },
    {
      "cell_type": "markdown",
      "source": [
        "manejo de menu"
      ],
      "metadata": {
        "id": "z8Rw6NkUuCKk"
      }
    },
    {
      "cell_type": "code",
      "source": [
        "\n",
        "\n",
        "while True:\n",
        "    print(\"\\nMenu:\")\n",
        "    print(\" 1. 40 numeros aleatorios (0-200)\")\n",
        "    print(\" 2. Tabla de multiplicar (1-20)\")\n",
        "    print(\" 3. Calificacion (0-100)\")\n",
        "    print(\" 4. Leer n cantidad \")\n",
        "    print(\" 5. Promedio (3 oportunidades) \")\n",
        "    print(\" 6. Leer n cantidad (minimo/maximo)\")\n",
        "    print(\" 7. impares y media\")\n",
        "    print(\" 8. Leer y validar número en rango\")\n",
        "    print(\" 9. Area Triangulo\")\n",
        "    print(\"10. Numero en rango\")\n",
        "    print(\"11. Salir\")\n",
        "\n",
        "    opcion = input(\"Ingrese una opcion: \")\n",
        "\n",
        "    if opcion == \"1\":\n",
        "        numeros = numeros_aleatorios(40, 0, 200)\n",
        "\n",
        "        par_o_impar(numeros)\n",
        "\n",
        "        cantidad_pares, cantidad_impares, suma_pares, suma_impares = contar_sumar_par_impar(numeros)\n",
        "\n",
        "        # Desplegar resultados\n",
        "        print(\"\\nCantidad de números pares:\", cantidad_pares)\n",
        "        print(\"Cantidad de números impares:\", cantidad_impares)\n",
        "        print(\"Suma de números pares:\", suma_pares)\n",
        "        print(\"Suma de números impares:\", suma_impares)\n",
        "        print(numeros)\n",
        "\n",
        "\n",
        "        pass\n",
        "    elif opcion == \"2\":\n",
        "\n",
        "        tabla_multiplicar(intEntero(\"Ingrese un número entre 1 y 20 para la tabla de multiplicar: \"))\n",
        "        pass\n",
        "    elif opcion == \"3\":\n",
        "        leer_calificacion()\n",
        "        pass\n",
        "    elif opcion == \"4\":\n",
        "        suma_media()\n",
        "        pass\n",
        "    elif opcion == \"5\":\n",
        "        promedio_3op()\n",
        "        pass\n",
        "    elif opcion == \"6\":\n",
        "        numeros_mayor_menor()\n",
        "        pass\n",
        "    elif opcion == \"7\":\n",
        "        numeros_impares = generar_impares()\n",
        "        print(f\"Números impares generados: {numeros_impares}\")\n",
        "\n",
        "        print(f\"Media de los números impares: {calcular_media(numeros_impares)}\")\n",
        "\n",
        "        pass\n",
        "    elif opcion == \"8\":\n",
        "        leer_validar_rango()\n",
        "        pass\n",
        "    elif opcion == \"9\":\n",
        "        base, altura = obtener_base_altura()\n",
        "        area = (base*altura)/2\n",
        "        if area is not None:\n",
        "            print(f\"\\nEl área del triángulo es: {area}\")\n",
        "        pass\n",
        "    elif opcion == \"10\":\n",
        "        numero_rango(1,20)\n",
        "        pass\n",
        "    elif opcion == \"11\": #salir\n",
        "        break\n",
        "    else:\n",
        "        print(\"Opcion invalida. Intente de nuevo.\")\n",
        "\n",
        ""
      ],
      "metadata": {
        "colab": {
          "base_uri": "https://localhost:8080/"
        },
        "id": "Awh8Ckurt7i5",
        "outputId": "eb5814d6-1028-4df0-9010-4bd1a7f08107"
      },
      "execution_count": 19,
      "outputs": [
        {
          "name": "stdout",
          "output_type": "stream",
          "text": [
            "\n",
            "Menu:\n",
            " 1. 40 numeros aleatorios (0-200)\n",
            " 2. Tabla de multiplicar (1-20)\n",
            " 3. Calificacion (0-100)\n",
            " 4. Leer n cantidad \n",
            " 5. Promedio (3 oportunidades) \n",
            " 6. Leer n cantidad (minimo/maximo)\n",
            " 7. impares y media\n",
            " 8. Leer y validar número en rango\n",
            " 9. Area Triangulo\n",
            "10. Numero en rango\n",
            "11. Salir\n",
            "Ingrese una opcion: 11\n"
          ]
        }
      ]
    }
  ]
}